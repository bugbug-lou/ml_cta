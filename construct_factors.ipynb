{
 "cells": [
  {
   "cell_type": "code",
   "execution_count": 2,
   "metadata": {
    "execution": {
     "iopub.execute_input": "2021-03-04T11:29:43.347670Z",
     "iopub.status.busy": "2021-03-04T11:29:43.347411Z",
     "iopub.status.idle": "2021-03-04T11:29:43.763405Z",
     "shell.execute_reply": "2021-03-04T11:29:43.762083Z",
     "shell.execute_reply.started": "2021-03-04T11:29:43.347642Z"
    }
   },
   "outputs": [
    {
     "ename": "ModuleNotFoundError",
     "evalue": "No module named 'torch'",
     "output_type": "error",
     "traceback": [
      "\u001B[0;31m---------------------------------------------------------------------------\u001B[0m",
      "\u001B[0;31mModuleNotFoundError\u001B[0m                       Traceback (most recent call last)",
      "\u001B[0;32m<ipython-input-2-ba311a8a7a6f>\u001B[0m in \u001B[0;36m<module>\u001B[0;34m\u001B[0m\n\u001B[1;32m      5\u001B[0m \u001B[0;32mimport\u001B[0m \u001B[0mpandas\u001B[0m \u001B[0;32mas\u001B[0m \u001B[0mpd\u001B[0m\u001B[0;34m\u001B[0m\u001B[0;34m\u001B[0m\u001B[0m\n\u001B[1;32m      6\u001B[0m \u001B[0;32mimport\u001B[0m \u001B[0mnumpy\u001B[0m \u001B[0;32mas\u001B[0m \u001B[0mnp\u001B[0m\u001B[0;34m\u001B[0m\u001B[0;34m\u001B[0m\u001B[0m\n\u001B[0;32m----> 7\u001B[0;31m \u001B[0;32mimport\u001B[0m \u001B[0mtorch\u001B[0m\u001B[0;34m\u001B[0m\u001B[0;34m\u001B[0m\u001B[0m\n\u001B[0m\u001B[1;32m      8\u001B[0m \u001B[0;32mimport\u001B[0m \u001B[0mseaborn\u001B[0m \u001B[0;32mas\u001B[0m \u001B[0msns\u001B[0m\u001B[0;34m\u001B[0m\u001B[0;34m\u001B[0m\u001B[0m\n\u001B[1;32m      9\u001B[0m \u001B[0;34m\u001B[0m\u001B[0m\n",
      "\u001B[0;31mModuleNotFoundError\u001B[0m: No module named 'torch'"
     ]
    }
   ],
   "source": [
    "import sys\n",
    "import os\n",
    "import argparse\n",
    "import time\n",
    "import pandas as pd\n",
    "import numpy as np\n",
    "import seaborn as sns\n",
    "\n",
    "import warnings\n",
    "if not sys.warnoptions:\n",
    "    warnings.simplefilter(\"ignore\")\n",
    "\n",
    "module_path = os.path.abspath(os.path.join('..'))\n",
    "if module_path not in sys.path:\n",
    "    sys.path.append(module_path)"
   ]
  },
  {
   "cell_type": "code",
   "execution_count": null,
   "metadata": {
    "execution": {
     "iopub.status.busy": "2021-03-04T11:29:43.764355Z",
     "iopub.status.idle": "2021-03-04T11:29:43.764883Z"
    }
   },
   "outputs": [],
   "source": [
    "year = 2019\n",
    "ticker = 'IFM'\n",
    "\n",
    "# cd = os.path.dirname(__file__)\n",
    "df = pd.read_csv(os.path.join(f'data/index/{year}/{ticker}.csv'), index_col=0, encoding='gbk')\n",
    "df['type'] = df.index\n",
    "df['time'] = pd.to_datetime(df['时间'])\n",
    "df['open'] = df['开']\n",
    "df['close'] = df['收']\n",
    "df['high'] = df['高']\n",
    "df['low'] = df['低']\n",
    "df['volume'] = df['成交量']\n",
    "df = df.set_index('time')\n",
    "df = df[['time', 'open', 'close', 'high', 'low', 'volume']]\n",
    "# df = df.iloc[:2000]"
   ]
  },
  {
   "cell_type": "code",
   "execution_count": 3,
   "metadata": {
    "execution": {
     "iopub.execute_input": "2021-02-25T13:48:10.875800Z",
     "iopub.status.busy": "2021-02-25T13:48:10.875603Z",
     "iopub.status.idle": "2021-02-25T13:48:10.891408Z",
     "shell.execute_reply": "2021-02-25T13:48:10.890720Z",
     "shell.execute_reply.started": "2021-02-25T13:48:10.875776Z"
    }
   },
   "outputs": [
    {
     "data": {
      "text/html": [
       "<div>\n",
       "<style scoped>\n",
       "    .dataframe tbody tr th:only-of-type {\n",
       "        vertical-align: middle;\n",
       "    }\n",
       "\n",
       "    .dataframe tbody tr th {\n",
       "        vertical-align: top;\n",
       "    }\n",
       "\n",
       "    .dataframe thead th {\n",
       "        text-align: right;\n",
       "    }\n",
       "</style>\n",
       "<table border=\"1\" class=\"dataframe\">\n",
       "  <thead>\n",
       "    <tr style=\"text-align: right;\">\n",
       "      <th></th>\n",
       "      <th>time</th>\n",
       "      <th>open</th>\n",
       "      <th>close</th>\n",
       "      <th>high</th>\n",
       "      <th>low</th>\n",
       "      <th>volume</th>\n",
       "    </tr>\n",
       "  </thead>\n",
       "  <tbody>\n",
       "    <tr>\n",
       "      <th>0</th>\n",
       "      <td>2019-01-02 09:31:00</td>\n",
       "      <td>3012.4</td>\n",
       "      <td>3008.6</td>\n",
       "      <td>3013.2</td>\n",
       "      <td>3008.0</td>\n",
       "      <td>1021.0</td>\n",
       "    </tr>\n",
       "    <tr>\n",
       "      <th>1</th>\n",
       "      <td>2019-01-02 09:32:00</td>\n",
       "      <td>3008.6</td>\n",
       "      <td>3007.8</td>\n",
       "      <td>3009.2</td>\n",
       "      <td>3006.8</td>\n",
       "      <td>503.0</td>\n",
       "    </tr>\n",
       "    <tr>\n",
       "      <th>2</th>\n",
       "      <td>2019-01-02 09:33:00</td>\n",
       "      <td>3007.6</td>\n",
       "      <td>3010.2</td>\n",
       "      <td>3010.8</td>\n",
       "      <td>3007.4</td>\n",
       "      <td>363.0</td>\n",
       "    </tr>\n",
       "    <tr>\n",
       "      <th>3</th>\n",
       "      <td>2019-01-02 09:34:00</td>\n",
       "      <td>3010.4</td>\n",
       "      <td>3004.2</td>\n",
       "      <td>3010.8</td>\n",
       "      <td>3003.6</td>\n",
       "      <td>554.0</td>\n",
       "    </tr>\n",
       "    <tr>\n",
       "      <th>4</th>\n",
       "      <td>2019-01-02 09:35:00</td>\n",
       "      <td>3004.2</td>\n",
       "      <td>3003.6</td>\n",
       "      <td>3006.0</td>\n",
       "      <td>3003.2</td>\n",
       "      <td>326.0</td>\n",
       "    </tr>\n",
       "    <tr>\n",
       "      <th>...</th>\n",
       "      <td>...</td>\n",
       "      <td>...</td>\n",
       "      <td>...</td>\n",
       "      <td>...</td>\n",
       "      <td>...</td>\n",
       "      <td>...</td>\n",
       "    </tr>\n",
       "    <tr>\n",
       "      <th>58555</th>\n",
       "      <td>2019-12-31 14:56:00</td>\n",
       "      <td>4108.6</td>\n",
       "      <td>4109.4</td>\n",
       "      <td>4109.4</td>\n",
       "      <td>4108.0</td>\n",
       "      <td>356.0</td>\n",
       "    </tr>\n",
       "    <tr>\n",
       "      <th>58556</th>\n",
       "      <td>2019-12-31 14:57:00</td>\n",
       "      <td>4109.2</td>\n",
       "      <td>4106.6</td>\n",
       "      <td>4109.4</td>\n",
       "      <td>4106.4</td>\n",
       "      <td>411.0</td>\n",
       "    </tr>\n",
       "    <tr>\n",
       "      <th>58557</th>\n",
       "      <td>2019-12-31 14:58:00</td>\n",
       "      <td>4106.6</td>\n",
       "      <td>4109.6</td>\n",
       "      <td>4109.6</td>\n",
       "      <td>4106.0</td>\n",
       "      <td>547.0</td>\n",
       "    </tr>\n",
       "    <tr>\n",
       "      <th>58558</th>\n",
       "      <td>2019-12-31 14:59:00</td>\n",
       "      <td>4109.0</td>\n",
       "      <td>4109.0</td>\n",
       "      <td>4109.4</td>\n",
       "      <td>4108.0</td>\n",
       "      <td>659.0</td>\n",
       "    </tr>\n",
       "    <tr>\n",
       "      <th>58559</th>\n",
       "      <td>2019-12-31 15:00:00</td>\n",
       "      <td>4109.0</td>\n",
       "      <td>4109.4</td>\n",
       "      <td>4111.8</td>\n",
       "      <td>4108.6</td>\n",
       "      <td>855.0</td>\n",
       "    </tr>\n",
       "  </tbody>\n",
       "</table>\n",
       "<p>58560 rows × 6 columns</p>\n",
       "</div>"
      ],
      "text/plain": [
       "                     time    open   close    high     low  volume\n",
       "0     2019-01-02 09:31:00  3012.4  3008.6  3013.2  3008.0  1021.0\n",
       "1     2019-01-02 09:32:00  3008.6  3007.8  3009.2  3006.8   503.0\n",
       "2     2019-01-02 09:33:00  3007.6  3010.2  3010.8  3007.4   363.0\n",
       "3     2019-01-02 09:34:00  3010.4  3004.2  3010.8  3003.6   554.0\n",
       "4     2019-01-02 09:35:00  3004.2  3003.6  3006.0  3003.2   326.0\n",
       "...                   ...     ...     ...     ...     ...     ...\n",
       "58555 2019-12-31 14:56:00  4108.6  4109.4  4109.4  4108.0   356.0\n",
       "58556 2019-12-31 14:57:00  4109.2  4106.6  4109.4  4106.4   411.0\n",
       "58557 2019-12-31 14:58:00  4106.6  4109.6  4109.6  4106.0   547.0\n",
       "58558 2019-12-31 14:59:00  4109.0  4109.0  4109.4  4108.0   659.0\n",
       "58559 2019-12-31 15:00:00  4109.0  4109.4  4111.8  4108.6   855.0\n",
       "\n",
       "[58560 rows x 6 columns]"
      ]
     },
     "execution_count": 3,
     "metadata": {},
     "output_type": "execute_result"
    }
   ],
   "source": [
    "df"
   ]
  },
  {
   "cell_type": "code",
   "execution_count": 4,
   "metadata": {
    "execution": {
     "iopub.execute_input": "2021-02-25T13:48:10.893102Z",
     "iopub.status.busy": "2021-02-25T13:48:10.892915Z",
     "iopub.status.idle": "2021-02-25T13:48:10.922390Z",
     "shell.execute_reply": "2021-02-25T13:48:10.921744Z",
     "shell.execute_reply.started": "2021-02-25T13:48:10.893079Z"
    }
   },
   "outputs": [],
   "source": [
    "df['ma5'] = df.close.ewm(halflife=5).mean()\n",
    "df['ma20'] = df.close.ewm(halflife=25).mean()\n",
    "macd_fast = df['ma5'] - df['ma20']\n",
    "macd_slow = macd_fast.ewm(halflife=9).mean()\n",
    "df['macd'] = macd_fast - macd_slow\n",
    "\n",
    "vwap_window = 20\n",
    "df['pv'] = df.close * df.volume\n",
    "pv_sum = df['pv'].rolling(vwap_window).sum()\n",
    "v_sum = df['volume'].rolling(vwap_window).sum()\n",
    "df['vwap'] = pv_sum/v_sum"
   ]
  },
  {
   "cell_type": "code",
   "execution_count": 5,
   "metadata": {
    "execution": {
     "iopub.execute_input": "2021-02-25T13:48:10.923748Z",
     "iopub.status.busy": "2021-02-25T13:48:10.923480Z",
     "iopub.status.idle": "2021-02-25T13:48:11.142570Z",
     "shell.execute_reply": "2021-02-25T13:48:11.141402Z",
     "shell.execute_reply.started": "2021-02-25T13:48:10.923719Z"
    }
   },
   "outputs": [
    {
     "data": {
      "image/png": "[encoded data removed]",
      "text/plain": [
       "<Figure size 432x288 with 1 Axes>"
      ]
     },
     "metadata": {
      "needs_background": "light"
     },
     "output_type": "display_data"
    }
   ],
   "source": [
    "df.iloc[:200].vwap.plot()\n",
    "df.iloc[:200].close.plot()\n",
    "df.iloc[:200].ma5.plot()\n",
    "sns.despine()"
   ]
  },
  {
   "cell_type": "code",
   "execution_count": 6,
   "metadata": {
    "execution": {
     "iopub.execute_input": "2021-02-25T13:48:11.144102Z",
     "iopub.status.busy": "2021-02-25T13:48:11.143931Z",
     "iopub.status.idle": "2021-02-25T13:48:11.286305Z",
     "shell.execute_reply": "2021-02-25T13:48:11.285690Z",
     "shell.execute_reply.started": "2021-02-25T13:48:11.144081Z"
    }
   },
   "outputs": [
    {
     "data": {
      "image/png": "[encoded data removed]",
      "text/plain": [
       "<Figure size 432x288 with 1 Axes>"
      ]
     },
     "metadata": {
      "needs_background": "light"
     },
     "output_type": "display_data"
    }
   ],
   "source": [
    "df.iloc[:200].macd.plot()\n",
    "sns.despine()"
   ]
  },
  {
   "cell_type": "code",
   "execution_count": 7,
   "metadata": {
    "execution": {
     "iopub.execute_input": "2021-02-25T13:48:11.287584Z",
     "iopub.status.busy": "2021-02-25T13:48:11.287281Z",
     "iopub.status.idle": "2021-02-25T13:48:11.294064Z",
     "shell.execute_reply": "2021-02-25T13:48:11.293078Z",
     "shell.execute_reply.started": "2021-02-25T13:48:11.287561Z"
    }
   },
   "outputs": [],
   "source": [
    "trend_window = 3\n",
    "df['macd_trend'] = (df.macd - df.macd.shift(trend_window))/trend_window"
   ]
  },
  {
   "cell_type": "code",
   "execution_count": 8,
   "metadata": {
    "execution": {
     "iopub.execute_input": "2021-02-25T13:48:11.295558Z",
     "iopub.status.busy": "2021-02-25T13:48:11.295372Z",
     "iopub.status.idle": "2021-02-25T13:48:11.429923Z",
     "shell.execute_reply": "2021-02-25T13:48:11.429389Z",
     "shell.execute_reply.started": "2021-02-25T13:48:11.295538Z"
    }
   },
   "outputs": [
    {
     "data": {
      "image/png": "[encoded data removed]",
      "text/plain": [
       "<Figure size 432x288 with 1 Axes>"
      ]
     },
     "metadata": {
      "needs_background": "light"
     },
     "output_type": "display_data"
    }
   ],
   "source": [
    "df.iloc[:200].macd_trend.plot()\n",
    "sns.despine()"
   ]
  },
  {
   "cell_type": "code",
   "execution_count": 9,
   "metadata": {
    "execution": {
     "iopub.execute_input": "2021-02-25T13:48:11.433264Z",
     "iopub.status.busy": "2021-02-25T13:48:11.433099Z",
     "iopub.status.idle": "2021-02-25T13:48:11.440626Z",
     "shell.execute_reply": "2021-02-25T13:48:11.440099Z",
     "shell.execute_reply.started": "2021-02-25T13:48:11.433244Z"
    }
   },
   "outputs": [],
   "source": [
    "df['ma5_trend'] = (df.ma5 - df.ma5.shift(trend_window))/trend_window\n",
    "df['ma20_trend'] = (df.ma20 - df.ma20.shift(trend_window))/trend_window"
   ]
  },
  {
   "cell_type": "code",
   "execution_count": 10,
   "metadata": {
    "execution": {
     "iopub.execute_input": "2021-02-25T13:48:11.442856Z",
     "iopub.status.busy": "2021-02-25T13:48:11.442683Z",
     "iopub.status.idle": "2021-02-25T13:48:11.584142Z",
     "shell.execute_reply": "2021-02-25T13:48:11.583539Z",
     "shell.execute_reply.started": "2021-02-25T13:48:11.442835Z"
    }
   },
   "outputs": [
    {
     "data": {
      "image/png": "[encoded data removed]",
      "text/plain": [
       "<Figure size 432x288 with 1 Axes>"
      ]
     },
     "metadata": {
      "needs_background": "light"
     },
     "output_type": "display_data"
    }
   ],
   "source": [
    "df.iloc[:200].ma5_trend.plot()\n",
    "df.iloc[:200].ma20_trend.plot()\n",
    "sns.despine()"
   ]
  },
  {
   "cell_type": "code",
   "execution_count": 11,
   "metadata": {
    "execution": {
     "iopub.execute_input": "2021-02-25T13:48:11.585505Z",
     "iopub.status.busy": "2021-02-25T13:48:11.585344Z",
     "iopub.status.idle": "2021-02-25T13:48:11.610492Z",
     "shell.execute_reply": "2021-02-25T13:48:11.609929Z",
     "shell.execute_reply.started": "2021-02-25T13:48:11.585484Z"
    }
   },
   "outputs": [],
   "source": [
    "h = 30\n",
    "df[f'ret{h}'] = df.close.shift(-h)/df.close - 1\n",
    "df[f'max_up{h}'] = df.iloc[::-1].close.rolling(h).max()/df.close - 1\n",
    "df[f'max_down{h}'] = df.iloc[::-1].close.rolling(h).min()/df.close - 1"
   ]
  },
  {
   "cell_type": "code",
   "execution_count": 12,
   "metadata": {
    "execution": {
     "iopub.execute_input": "2021-02-25T13:48:11.611797Z",
     "iopub.status.busy": "2021-02-25T13:48:11.611600Z",
     "iopub.status.idle": "2021-02-25T13:48:11.621197Z",
     "shell.execute_reply": "2021-02-25T13:48:11.620524Z",
     "shell.execute_reply.started": "2021-02-25T13:48:11.611773Z"
    }
   },
   "outputs": [
    {
     "data": {
      "text/plain": [
       "count    58530.000000\n",
       "mean         0.000171\n",
       "std          0.004188\n",
       "min         -0.039763\n",
       "25%         -0.001813\n",
       "50%          0.000000\n",
       "75%          0.002001\n",
       "max          0.036077\n",
       "Name: ret30, dtype: float64"
      ]
     },
     "execution_count": 12,
     "metadata": {},
     "output_type": "execute_result"
    }
   ],
   "source": [
    "df['ret30'].describe()"
   ]
  },
  {
   "cell_type": "code",
   "execution_count": 13,
   "metadata": {
    "execution": {
     "iopub.execute_input": "2021-02-25T13:48:11.622446Z",
     "iopub.status.busy": "2021-02-25T13:48:11.622198Z",
     "iopub.status.idle": "2021-02-25T13:48:11.638943Z",
     "shell.execute_reply": "2021-02-25T13:48:11.638192Z",
     "shell.execute_reply.started": "2021-02-25T13:48:11.622422Z"
    }
   },
   "outputs": [],
   "source": [
    "df['y'] = 0\n",
    "df.loc[(df[f'max_up{h}']<0.0005) & (df[f'ret{h}']<-0.002), 'y'] = -1\n",
    "df.loc[(df[f'max_down{h}']>-0.0005) & (df[f'ret{h}']>0.002), 'y'] = 1"
   ]
  },
  {
   "cell_type": "code",
   "execution_count": 14,
   "metadata": {
    "execution": {
     "iopub.execute_input": "2021-02-25T13:48:11.640190Z",
     "iopub.status.busy": "2021-02-25T13:48:11.639979Z",
     "iopub.status.idle": "2021-02-25T13:48:11.646267Z",
     "shell.execute_reply": "2021-02-25T13:48:11.645561Z",
     "shell.execute_reply.started": "2021-02-25T13:48:11.640162Z"
    }
   },
   "outputs": [
    {
     "data": {
      "text/plain": [
       " 0    43428\n",
       " 1     7708\n",
       "-1     7424\n",
       "Name: y, dtype: int64"
      ]
     },
     "execution_count": 14,
     "metadata": {},
     "output_type": "execute_result"
    }
   ],
   "source": [
    "df.y.value_counts()"
   ]
  },
  {
   "cell_type": "code",
   "execution_count": 15,
   "metadata": {
    "execution": {
     "iopub.execute_input": "2021-02-25T13:48:11.647395Z",
     "iopub.status.busy": "2021-02-25T13:48:11.647208Z",
     "iopub.status.idle": "2021-02-25T13:48:11.665170Z",
     "shell.execute_reply": "2021-02-25T13:48:11.664568Z",
     "shell.execute_reply.started": "2021-02-25T13:48:11.647371Z"
    }
   },
   "outputs": [
    {
     "data": {
      "text/html": [
       "<div>\n",
       "<style scoped>\n",
       "    .dataframe tbody tr th:only-of-type {\n",
       "        vertical-align: middle;\n",
       "    }\n",
       "\n",
       "    .dataframe tbody tr th {\n",
       "        vertical-align: top;\n",
       "    }\n",
       "\n",
       "    .dataframe thead th {\n",
       "        text-align: right;\n",
       "    }\n",
       "</style>\n",
       "<table border=\"1\" class=\"dataframe\">\n",
       "  <thead>\n",
       "    <tr style=\"text-align: right;\">\n",
       "      <th></th>\n",
       "      <th>time</th>\n",
       "      <th>open</th>\n",
       "      <th>close</th>\n",
       "      <th>high</th>\n",
       "      <th>low</th>\n",
       "      <th>volume</th>\n",
       "      <th>ma5</th>\n",
       "      <th>ma20</th>\n",
       "      <th>macd</th>\n",
       "      <th>pv</th>\n",
       "      <th>vwap</th>\n",
       "      <th>macd_trend</th>\n",
       "      <th>ma5_trend</th>\n",
       "      <th>ma20_trend</th>\n",
       "      <th>ret30</th>\n",
       "      <th>max_up30</th>\n",
       "      <th>max_down30</th>\n",
       "      <th>y</th>\n",
       "    </tr>\n",
       "  </thead>\n",
       "  <tbody>\n",
       "    <tr>\n",
       "      <th>0</th>\n",
       "      <td>2019-01-02 09:31:00</td>\n",
       "      <td>3012.4</td>\n",
       "      <td>3008.6</td>\n",
       "      <td>3013.2</td>\n",
       "      <td>3008.0</td>\n",
       "      <td>1021.0</td>\n",
       "      <td>3008.600000</td>\n",
       "      <td>3008.600000</td>\n",
       "      <td>0.000000</td>\n",
       "      <td>3071780.6</td>\n",
       "      <td>NaN</td>\n",
       "      <td>NaN</td>\n",
       "      <td>NaN</td>\n",
       "      <td>NaN</td>\n",
       "      <td>-0.012431</td>\n",
       "      <td>0.000532</td>\n",
       "      <td>-0.012298</td>\n",
       "      <td>0</td>\n",
       "    </tr>\n",
       "    <tr>\n",
       "      <th>1</th>\n",
       "      <td>2019-01-02 09:32:00</td>\n",
       "      <td>3008.6</td>\n",
       "      <td>3007.8</td>\n",
       "      <td>3009.2</td>\n",
       "      <td>3006.8</td>\n",
       "      <td>503.0</td>\n",
       "      <td>3008.172318</td>\n",
       "      <td>3008.194455</td>\n",
       "      <td>-0.010642</td>\n",
       "      <td>1512923.4</td>\n",
       "      <td>NaN</td>\n",
       "      <td>NaN</td>\n",
       "      <td>NaN</td>\n",
       "      <td>NaN</td>\n",
       "      <td>-0.011769</td>\n",
       "      <td>0.000798</td>\n",
       "      <td>-0.012168</td>\n",
       "      <td>0</td>\n",
       "    </tr>\n",
       "    <tr>\n",
       "      <th>2</th>\n",
       "      <td>2019-01-02 09:33:00</td>\n",
       "      <td>3007.6</td>\n",
       "      <td>3010.2</td>\n",
       "      <td>3010.8</td>\n",
       "      <td>3007.4</td>\n",
       "      <td>363.0</td>\n",
       "      <td>3008.943767</td>\n",
       "      <td>3008.881589</td>\n",
       "      <td>0.047201</td>\n",
       "      <td>1092702.6</td>\n",
       "      <td>NaN</td>\n",
       "      <td>NaN</td>\n",
       "      <td>NaN</td>\n",
       "      <td>NaN</td>\n",
       "      <td>-0.011694</td>\n",
       "      <td>0.000000</td>\n",
       "      <td>-0.012956</td>\n",
       "      <td>-1</td>\n",
       "    </tr>\n",
       "    <tr>\n",
       "      <th>3</th>\n",
       "      <td>2019-01-02 09:34:00</td>\n",
       "      <td>3010.4</td>\n",
       "      <td>3004.2</td>\n",
       "      <td>3010.8</td>\n",
       "      <td>3003.6</td>\n",
       "      <td>554.0</td>\n",
       "      <td>3007.501087</td>\n",
       "      <td>3007.662076</td>\n",
       "      <td>-0.126770</td>\n",
       "      <td>1664326.8</td>\n",
       "      <td>NaN</td>\n",
       "      <td>-0.042257</td>\n",
       "      <td>-0.366304</td>\n",
       "      <td>-0.312641</td>\n",
       "      <td>-0.009320</td>\n",
       "      <td>0.000000</td>\n",
       "      <td>-0.010985</td>\n",
       "      <td>-1</td>\n",
       "    </tr>\n",
       "    <tr>\n",
       "      <th>4</th>\n",
       "      <td>2019-01-02 09:35:00</td>\n",
       "      <td>3004.2</td>\n",
       "      <td>3003.6</td>\n",
       "      <td>3006.0</td>\n",
       "      <td>3003.2</td>\n",
       "      <td>326.0</td>\n",
       "      <td>3006.491100</td>\n",
       "      <td>3006.803998</td>\n",
       "      <td>-0.214045</td>\n",
       "      <td>979173.6</td>\n",
       "      <td>NaN</td>\n",
       "      <td>-0.067801</td>\n",
       "      <td>-0.560406</td>\n",
       "      <td>-0.463486</td>\n",
       "      <td>-0.010121</td>\n",
       "      <td>0.000000</td>\n",
       "      <td>-0.010787</td>\n",
       "      <td>-1</td>\n",
       "    </tr>\n",
       "  </tbody>\n",
       "</table>\n",
       "</div>"
      ],
      "text/plain": [
       "                 time    open   close    high     low  volume          ma5  \\\n",
       "0 2019-01-02 09:31:00  3012.4  3008.6  3013.2  3008.0  1021.0  3008.600000   \n",
       "1 2019-01-02 09:32:00  3008.6  3007.8  3009.2  3006.8   503.0  3008.172318   \n",
       "2 2019-01-02 09:33:00  3007.6  3010.2  3010.8  3007.4   363.0  3008.943767   \n",
       "3 2019-01-02 09:34:00  3010.4  3004.2  3010.8  3003.6   554.0  3007.501087   \n",
       "4 2019-01-02 09:35:00  3004.2  3003.6  3006.0  3003.2   326.0  3006.491100   \n",
       "\n",
       "          ma20      macd         pv  vwap  macd_trend  ma5_trend  ma20_trend  \\\n",
       "0  3008.600000  0.000000  3071780.6   NaN         NaN        NaN         NaN   \n",
       "1  3008.194455 -0.010642  1512923.4   NaN         NaN        NaN         NaN   \n",
       "2  3008.881589  0.047201  1092702.6   NaN         NaN        NaN         NaN   \n",
       "3  3007.662076 -0.126770  1664326.8   NaN   -0.042257  -0.366304   -0.312641   \n",
       "4  3006.803998 -0.214045   979173.6   NaN   -0.067801  -0.560406   -0.463486   \n",
       "\n",
       "      ret30  max_up30  max_down30  y  \n",
       "0 -0.012431  0.000532   -0.012298  0  \n",
       "1 -0.011769  0.000798   -0.012168  0  \n",
       "2 -0.011694  0.000000   -0.012956 -1  \n",
       "3 -0.009320  0.000000   -0.010985 -1  \n",
       "4 -0.010121  0.000000   -0.010787 -1  "
      ]
     },
     "execution_count": 15,
     "metadata": {},
     "output_type": "execute_result"
    }
   ],
   "source": [
    "df.head()"
   ]
  },
  {
   "cell_type": "code",
   "execution_count": 16,
   "metadata": {
    "execution": {
     "iopub.execute_input": "2021-02-25T13:48:11.666171Z",
     "iopub.status.busy": "2021-02-25T13:48:11.666012Z",
     "iopub.status.idle": "2021-02-25T13:48:13.017640Z",
     "shell.execute_reply": "2021-02-25T13:48:13.017096Z",
     "shell.execute_reply.started": "2021-02-25T13:48:11.666149Z"
    }
   },
   "outputs": [],
   "source": [
    "from sklearn.datasets import make_hastie_10_2\n",
    "from sklearn.ensemble import AdaBoostClassifier\n",
    "df = df.dropna()\n",
    "df = df.drop(df[df.y==0].sample(frac=.83).index)\n",
    "X = df.drop(columns=['time', 'pv', 'ma5', 'ma20', f'ret{h}', f'max_up{h}', f'max_down{h}', 'y'])\n",
    "y = df.y\n",
    "split = int(0.4*df.shape[0])\n",
    "X_train, X_test = X[:split], X[split:]\n",
    "y_train, y_test = y[:split], y[split:]\n",
    "clf = AdaBoostClassifier(n_estimators=100, random_state=0).fit(X_train, y_train)"
   ]
  },
  {
   "cell_type": "code",
   "execution_count": 17,
   "metadata": {
    "execution": {
     "iopub.execute_input": "2021-02-25T13:48:13.018825Z",
     "iopub.status.busy": "2021-02-25T13:48:13.018664Z",
     "iopub.status.idle": "2021-02-25T13:48:13.147965Z",
     "shell.execute_reply": "2021-02-25T13:48:13.147243Z",
     "shell.execute_reply.started": "2021-02-25T13:48:13.018805Z"
    }
   },
   "outputs": [
    {
     "data": {
      "text/plain": [
       "0.3295799688865842"
      ]
     },
     "execution_count": 17,
     "metadata": {},
     "output_type": "execute_result"
    }
   ],
   "source": [
    "clf.score(X_test, y_test)"
   ]
  },
  {
   "cell_type": "code",
   "execution_count": 18,
   "metadata": {
    "execution": {
     "iopub.execute_input": "2021-02-25T13:48:13.149300Z",
     "iopub.status.busy": "2021-02-25T13:48:13.149050Z",
     "iopub.status.idle": "2021-02-25T13:48:13.156418Z",
     "shell.execute_reply": "2021-02-25T13:48:13.155823Z",
     "shell.execute_reply.started": "2021-02-25T13:48:13.149276Z"
    }
   },
   "outputs": [
    {
     "data": {
      "text/plain": [
       "array([0.04, 0.08, 0.07, 0.07, 0.04, 0.09, 0.38, 0.05, 0.04, 0.14])"
      ]
     },
     "execution_count": 18,
     "metadata": {},
     "output_type": "execute_result"
    }
   ],
   "source": [
    "clf.feature_importances_"
   ]
  },
  {
   "cell_type": "code",
   "execution_count": 19,
   "metadata": {
    "execution": {
     "iopub.execute_input": "2021-02-25T13:48:13.157655Z",
     "iopub.status.busy": "2021-02-25T13:48:13.157358Z",
     "iopub.status.idle": "2021-02-25T13:48:13.162038Z",
     "shell.execute_reply": "2021-02-25T13:48:13.161438Z",
     "shell.execute_reply.started": "2021-02-25T13:48:13.157626Z"
    }
   },
   "outputs": [
    {
     "data": {
      "text/plain": [
       "Index(['open', 'close', 'high', 'low', 'volume', 'macd', 'vwap', 'macd_trend',\n",
       "       'ma5_trend', 'ma20_trend'],\n",
       "      dtype='object')"
      ]
     },
     "execution_count": 19,
     "metadata": {},
     "output_type": "execute_result"
    }
   ],
   "source": [
    "X.columns"
   ]
  },
  {
   "cell_type": "code",
   "execution_count": 20,
   "metadata": {
    "execution": {
     "iopub.execute_input": "2021-02-25T13:48:13.163370Z",
     "iopub.status.busy": "2021-02-25T13:48:13.163050Z",
     "iopub.status.idle": "2021-02-25T13:48:13.287719Z",
     "shell.execute_reply": "2021-02-25T13:48:13.287180Z",
     "shell.execute_reply.started": "2021-02-25T13:48:13.163344Z"
    }
   },
   "outputs": [],
   "source": [
    "df['yhat'] = 0\n",
    "df.yhat.iloc[split:] = clf.predict(X_test)"
   ]
  },
  {
   "cell_type": "code",
   "execution_count": 21,
   "metadata": {
    "execution": {
     "iopub.execute_input": "2021-02-25T13:48:13.289021Z",
     "iopub.status.busy": "2021-02-25T13:48:13.288696Z",
     "iopub.status.idle": "2021-02-25T13:48:13.295669Z",
     "shell.execute_reply": "2021-02-25T13:48:13.295023Z",
     "shell.execute_reply.started": "2021-02-25T13:48:13.288982Z"
    }
   },
   "outputs": [
    {
     "data": {
      "text/plain": [
       " 1    5113\n",
       " 0    4454\n",
       "-1    3932\n",
       "Name: yhat, dtype: int64"
      ]
     },
     "execution_count": 21,
     "metadata": {},
     "output_type": "execute_result"
    }
   ],
   "source": [
    "df.iloc[split:,:].yhat.value_counts()"
   ]
  },
  {
   "cell_type": "code",
   "execution_count": 22,
   "metadata": {
    "execution": {
     "iopub.execute_input": "2021-02-25T13:48:13.296792Z",
     "iopub.status.busy": "2021-02-25T13:48:13.296624Z",
     "iopub.status.idle": "2021-02-25T13:48:13.302318Z",
     "shell.execute_reply": "2021-02-25T13:48:13.301710Z",
     "shell.execute_reply.started": "2021-02-25T13:48:13.296767Z"
    }
   },
   "outputs": [
    {
     "data": {
      "text/plain": [
       " 0    4662\n",
       " 1    4421\n",
       "-1    4416\n",
       "Name: y, dtype: int64"
      ]
     },
     "execution_count": 22,
     "metadata": {},
     "output_type": "execute_result"
    }
   ],
   "source": [
    "df.iloc[split:,:].y.value_counts()"
   ]
  },
  {
   "cell_type": "code",
   "execution_count": 24,
   "metadata": {
    "execution": {
     "iopub.execute_input": "2021-02-25T13:48:49.859422Z",
     "iopub.status.busy": "2021-02-25T13:48:49.859172Z",
     "iopub.status.idle": "2021-02-25T13:48:49.866321Z",
     "shell.execute_reply": "2021-02-25T13:48:49.865476Z",
     "shell.execute_reply.started": "2021-02-25T13:48:49.859392Z"
    }
   },
   "outputs": [
    {
     "data": {
      "text/plain": [
       "(1594, 19)"
      ]
     },
     "execution_count": 24,
     "metadata": {},
     "output_type": "execute_result"
    }
   ],
   "source": [
    "df[(df.y==1)&(df.yhat==1)].shape"
   ]
  },
  {
   "cell_type": "code",
   "execution_count": null,
   "metadata": {},
   "outputs": [],
   "source": []
  }
 ],
 "metadata": {
  "kernelspec": {
   "display_name": "Python 3",
   "language": "python",
   "name": "python3"
  },
  "language_info": {
   "codemirror_mode": {
    "name": "ipython",
    "version": 3
   },
   "file_extension": ".py",
   "mimetype": "text/x-python",
   "name": "python",
   "nbconvert_exporter": "python",
   "pygments_lexer": "ipython3",
   "version": "3.7.10"
  }
 },
 "nbformat": 4,
 "nbformat_minor": 4
}